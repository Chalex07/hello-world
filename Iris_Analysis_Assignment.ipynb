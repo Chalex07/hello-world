{
 "cells": [
  {
   "cell_type": "markdown",
   "id": "49873458",
   "metadata": {},
   "source": [
    "# Iris Dataset Analysis\n",
    "This notebook performs loading, cleaning, analysis, and visualization on the Iris dataset."
   ]
  },
  {
   "cell_type": "code",
   "execution_count": null,
   "id": "efbc83b0",
   "metadata": {},
   "outputs": [
    {
     "ename": "",
     "evalue": "",
     "output_type": "error",
     "traceback": [
      "\u001b[1;31mFailed to start the Kernel. \n",
      "\u001b[1;31mConnection is disposed. \n",
      "\u001b[1;31mView Jupyter <a href='command:jupyter.viewOutput'>log</a> for further details."
     ]
    }
   ],
   "source": [
    "# Task 1: Load and Explore the Dataset\n",
    "import pandas as pd\n",
    "import numpy as np\n",
    "import matplotlib.pyplot as plt\n",
    "import seaborn as sns\n",
    "from sklearn.datasets import load_iris\n",
    "\n",
    "# Set Seaborn style\n",
    "sns.set(style=\"whitegrid\")\n"
   ]
  },
  {
   "cell_type": "code",
   "execution_count": null,
   "id": "d45f8acc",
   "metadata": {},
   "outputs": [],
   "source": [
    "# Load Iris dataset\n",
    "try:\n",
    "    iris_data = load_iris()\n",
    "    df = pd.DataFrame(iris_data.data, columns=iris_data.feature_names)\n",
    "    df['species'] = iris_data.target\n",
    "    df['species'] = df['species'].apply(lambda x: iris_data.target_names[x])\n",
    "    print(\"Dataset loaded successfully.\\n\")\n",
    "except Exception as e:\n",
    "    print(\"Error loading dataset:\", e)\n",
    "\n",
    "# Display first few rows\n",
    "df.head()"
   ]
  },
  {
   "cell_type": "code",
   "execution_count": null,
   "id": "7c09baf0",
   "metadata": {},
   "outputs": [],
   "source": [
    "# Explore data types and check for missing values\n",
    "print(df.info())\n",
    "df.isnull().sum()"
   ]
  },
  {
   "cell_type": "code",
   "execution_count": null,
   "id": "549edfbd",
   "metadata": {},
   "outputs": [],
   "source": [
    "# Clean dataset (if any missing values)\n",
    "df = df.dropna()\n",
    "df.info()"
   ]
  },
  {
   "cell_type": "code",
   "execution_count": null,
   "id": "efe4bbd9",
   "metadata": {},
   "outputs": [],
   "source": [
    "# Task 2: Basic Data Analysis\n",
    "# Descriptive statistics\n",
    "df.describe()"
   ]
  },
  {
   "cell_type": "code",
   "execution_count": null,
   "id": "752f2887",
   "metadata": {},
   "outputs": [],
   "source": [
    "# Grouping by species and computing mean\n",
    "grouped = df.groupby('species').mean()\n",
    "grouped"
   ]
  },
  {
   "cell_type": "markdown",
   "id": "da7d4fc8",
   "metadata": {},
   "source": [
    "### Observations:\n",
    "- *Setosa* flowers generally have smaller petal lengths and widths compared to *Virginica* and *Versicolor*.\n",
    "- Sepal length is relatively consistent across species but shows some variation.\n"
   ]
  },
  {
   "cell_type": "code",
   "execution_count": null,
   "id": "ebeaba60",
   "metadata": {},
   "outputs": [],
   "source": [
    "# Task 3: Data Visualization\n",
    "# Line chart (simulate time-series by index)\n",
    "plt.figure(figsize=(10, 5))\n",
    "plt.plot(df.index, df['sepal length (cm)'], label='Sepal Length')\n",
    "plt.plot(df.index, df['petal length (cm)'], label='Petal Length')\n",
    "plt.title('Simulated Time-Series of Sepal and Petal Length')\n",
    "plt.xlabel('Index')\n",
    "plt.ylabel('Length (cm)')\n",
    "plt.legend()\n",
    "plt.tight_layout()\n",
    "plt.show()"
   ]
  },
  {
   "cell_type": "code",
   "execution_count": null,
   "id": "22f7b29b",
   "metadata": {},
   "outputs": [],
   "source": [
    "# Bar chart: average petal length per species\n",
    "plt.figure(figsize=(8, 5))\n",
    "sns.barplot(x=grouped.index, y=grouped['petal length (cm)'])\n",
    "plt.title('Average Petal Length by Species')\n",
    "plt.xlabel('Species')\n",
    "plt.ylabel('Average Petal Length (cm)')\n",
    "plt.tight_layout()\n",
    "plt.show()"
   ]
  },
  {
   "cell_type": "code",
   "execution_count": null,
   "id": "0ce4bf3c",
   "metadata": {},
   "outputs": [],
   "source": [
    "# Histogram of petal width\n",
    "plt.figure(figsize=(8, 5))\n",
    "sns.histplot(df['petal width (cm)'], bins=20, kde=True, color='purple')\n",
    "plt.title('Distribution of Petal Width')\n",
    "plt.xlabel('Petal Width (cm)')\n",
    "plt.ylabel('Frequency')\n",
    "plt.tight_layout()\n",
    "plt.show()"
   ]
  },
  {
   "cell_type": "code",
   "execution_count": null,
   "id": "8aa1197b",
   "metadata": {},
   "outputs": [],
   "source": [
    "# Scatter plot: Sepal Length vs. Petal Length\n",
    "plt.figure(figsize=(8, 5))\n",
    "sns.scatterplot(data=df, x='sepal length (cm)', y='petal length (cm)', hue='species')\n",
    "plt.title('Sepal Length vs. Petal Length by Species')\n",
    "plt.xlabel('Sepal Length (cm)')\n",
    "plt.ylabel('Petal Length (cm)')\n",
    "plt.legend(title='Species')\n",
    "plt.tight_layout()\n",
    "plt.show()"
   ]
  }
 ],
 "metadata": {
  "kernelspec": {
   "display_name": "Python 3",
   "language": "python",
   "name": "python3"
  },
  "language_info": {
   "name": "python",
   "version": "3.12.4"
  }
 },
 "nbformat": 4,
 "nbformat_minor": 5
}
